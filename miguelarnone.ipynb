{
 "cells": [
  {
   "cell_type": "code",
   "execution_count": 1,
   "metadata": {},
   "outputs": [],
   "source": [
    "# Libraries\n",
    "\n",
    "# For processing data\n",
    "import pandas as pd\n",
    "import numpy as np\n",
    "from datetime import datetime, date, timedelta\n",
    "\n",
    "# Data Visualization\n",
    "import seaborn as sns\n",
    "import matplotlib.pyplot as plt\n",
    "\n",
    "# Modeling\n",
    "from sklearn.model_selection import train_test_split\n",
    "from sklearn.linear_model import LinearRegression\n",
    "from sklearn.metrics import mean_squared_error\n",
    "from sklearn.metrics import r2_score\n",
    "from scipy.stats import pearsonr"
   ]
  },
  {
   "cell_type": "code",
   "execution_count": 2,
   "metadata": {},
   "outputs": [
    {
     "name": "stdout",
     "output_type": "stream",
     "text": [
      "Train (11999, 17)\n",
      "Test (5380, 16)\n"
     ]
    }
   ],
   "source": [
    "# Obteniendo los datos\n",
    "# ==============================================================================\n",
    "train = pd.read_excel('bike_train.xlsx')\n",
    "test = pd.read_excel('bike_test.xlsx')\n",
    "\n",
    "print(f'Train {train.shape}')\n",
    "print(f'Test {test.shape}')"
   ]
  },
  {
   "cell_type": "code",
   "execution_count": 3,
   "metadata": {},
   "outputs": [
    {
     "data": {
      "text/html": [
       "<div>\n",
       "<style scoped>\n",
       "    .dataframe tbody tr th:only-of-type {\n",
       "        vertical-align: middle;\n",
       "    }\n",
       "\n",
       "    .dataframe tbody tr th {\n",
       "        vertical-align: top;\n",
       "    }\n",
       "\n",
       "    .dataframe thead th {\n",
       "        text-align: right;\n",
       "    }\n",
       "</style>\n",
       "<table border=\"1\" class=\"dataframe\">\n",
       "  <thead>\n",
       "    <tr style=\"text-align: right;\">\n",
       "      <th></th>\n",
       "      <th>instant</th>\n",
       "      <th>dteday</th>\n",
       "      <th>season</th>\n",
       "      <th>yr</th>\n",
       "      <th>mnth</th>\n",
       "      <th>hr</th>\n",
       "      <th>holiday</th>\n",
       "      <th>weekday</th>\n",
       "      <th>workingday</th>\n",
       "      <th>weathersit</th>\n",
       "      <th>temp</th>\n",
       "      <th>atemp</th>\n",
       "      <th>hum</th>\n",
       "      <th>windspeed</th>\n",
       "      <th>casual</th>\n",
       "      <th>registered</th>\n",
       "      <th>cnt</th>\n",
       "    </tr>\n",
       "  </thead>\n",
       "  <tbody>\n",
       "    <tr>\n",
       "      <th>0</th>\n",
       "      <td>1</td>\n",
       "      <td>2011-01-01</td>\n",
       "      <td>1</td>\n",
       "      <td>0</td>\n",
       "      <td>1</td>\n",
       "      <td>0</td>\n",
       "      <td>0</td>\n",
       "      <td>6</td>\n",
       "      <td>0</td>\n",
       "      <td>1</td>\n",
       "      <td>0.24</td>\n",
       "      <td>0.2879</td>\n",
       "      <td>0.81</td>\n",
       "      <td>0.0</td>\n",
       "      <td>3</td>\n",
       "      <td>13</td>\n",
       "      <td>16</td>\n",
       "    </tr>\n",
       "    <tr>\n",
       "      <th>1</th>\n",
       "      <td>2</td>\n",
       "      <td>2011-01-01</td>\n",
       "      <td>1</td>\n",
       "      <td>0</td>\n",
       "      <td>1</td>\n",
       "      <td>1</td>\n",
       "      <td>0</td>\n",
       "      <td>6</td>\n",
       "      <td>0</td>\n",
       "      <td>1</td>\n",
       "      <td>0.22</td>\n",
       "      <td>0.2727</td>\n",
       "      <td>0.80</td>\n",
       "      <td>0.0</td>\n",
       "      <td>8</td>\n",
       "      <td>32</td>\n",
       "      <td>40</td>\n",
       "    </tr>\n",
       "    <tr>\n",
       "      <th>2</th>\n",
       "      <td>3</td>\n",
       "      <td>2011-01-01</td>\n",
       "      <td>1</td>\n",
       "      <td>0</td>\n",
       "      <td>1</td>\n",
       "      <td>2</td>\n",
       "      <td>0</td>\n",
       "      <td>6</td>\n",
       "      <td>0</td>\n",
       "      <td>1</td>\n",
       "      <td>0.22</td>\n",
       "      <td>0.2727</td>\n",
       "      <td>0.80</td>\n",
       "      <td>0.0</td>\n",
       "      <td>5</td>\n",
       "      <td>27</td>\n",
       "      <td>32</td>\n",
       "    </tr>\n",
       "    <tr>\n",
       "      <th>3</th>\n",
       "      <td>4</td>\n",
       "      <td>2011-01-01</td>\n",
       "      <td>1</td>\n",
       "      <td>0</td>\n",
       "      <td>1</td>\n",
       "      <td>3</td>\n",
       "      <td>0</td>\n",
       "      <td>6</td>\n",
       "      <td>0</td>\n",
       "      <td>1</td>\n",
       "      <td>0.24</td>\n",
       "      <td>0.2879</td>\n",
       "      <td>0.75</td>\n",
       "      <td>0.0</td>\n",
       "      <td>3</td>\n",
       "      <td>10</td>\n",
       "      <td>13</td>\n",
       "    </tr>\n",
       "    <tr>\n",
       "      <th>4</th>\n",
       "      <td>5</td>\n",
       "      <td>2011-01-01</td>\n",
       "      <td>1</td>\n",
       "      <td>0</td>\n",
       "      <td>1</td>\n",
       "      <td>4</td>\n",
       "      <td>0</td>\n",
       "      <td>6</td>\n",
       "      <td>0</td>\n",
       "      <td>1</td>\n",
       "      <td>0.24</td>\n",
       "      <td>0.2879</td>\n",
       "      <td>0.75</td>\n",
       "      <td>0.0</td>\n",
       "      <td>0</td>\n",
       "      <td>1</td>\n",
       "      <td>1</td>\n",
       "    </tr>\n",
       "  </tbody>\n",
       "</table>\n",
       "</div>"
      ],
      "text/plain": [
       "   instant     dteday  season  yr  mnth  hr  holiday  weekday  workingday  \\\n",
       "0        1 2011-01-01       1   0     1   0        0        6           0   \n",
       "1        2 2011-01-01       1   0     1   1        0        6           0   \n",
       "2        3 2011-01-01       1   0     1   2        0        6           0   \n",
       "3        4 2011-01-01       1   0     1   3        0        6           0   \n",
       "4        5 2011-01-01       1   0     1   4        0        6           0   \n",
       "\n",
       "   weathersit  temp   atemp   hum  windspeed  casual  registered  cnt  \n",
       "0           1  0.24  0.2879  0.81        0.0       3          13   16  \n",
       "1           1  0.22  0.2727  0.80        0.0       8          32   40  \n",
       "2           1  0.22  0.2727  0.80        0.0       5          27   32  \n",
       "3           1  0.24  0.2879  0.75        0.0       3          10   13  \n",
       "4           1  0.24  0.2879  0.75        0.0       0           1    1  "
      ]
     },
     "execution_count": 3,
     "metadata": {},
     "output_type": "execute_result"
    }
   ],
   "source": [
    "train.head()"
   ]
  },
  {
   "cell_type": "code",
   "execution_count": 4,
   "metadata": {},
   "outputs": [
    {
     "name": "stdout",
     "output_type": "stream",
     "text": [
      "Train tiene 0 nulos\n",
      "Test tiene 0 nulos\n"
     ]
    }
   ],
   "source": [
    "# Chequeando Nulos\n",
    "# ==============================================================================\n",
    "print(f'Train tiene {train.isna().sum().sum()} nulos')\n",
    "print(f'Test tiene {test.isna().sum().sum()} nulos')"
   ]
  },
  {
   "cell_type": "code",
   "execution_count": 5,
   "metadata": {},
   "outputs": [],
   "source": [
    "# Preparando el train y el test para la regresion\n",
    "# ==============================================================================\n",
    "train_reg = train[['dteday','cnt']].groupby(by = 'dteday',as_index=False).sum()\n",
    "train_reg['dteday_ord'] = train_reg['dteday'].apply(lambda x: x.toordinal()) # Convierto a ord\n",
    "\n",
    "test_reg = test[['dteday']].groupby(by = 'dteday',as_index=False).count()\n",
    "test_reg['dteday_ord'] = test_reg['dteday'].apply(lambda x: x.toordinal())"
   ]
  },
  {
   "cell_type": "code",
   "execution_count": 6,
   "metadata": {},
   "outputs": [],
   "source": [
    "# Feature y response\n",
    "# ==============================================================================\n",
    "X = train_reg['dteday_ord']\n",
    "y = train_reg['cnt']"
   ]
  },
  {
   "cell_type": "code",
   "execution_count": 7,
   "metadata": {},
   "outputs": [
    {
     "name": "stdout",
     "output_type": "stream",
     "text": [
      "Coeficiente de correlación de Pearson:  0.537603267761121\n",
      "P-value:  3.0650779244717686e-39\n"
     ]
    }
   ],
   "source": [
    "# Correlacion Lineal entre las variables\n",
    "# ==============================================================================\n",
    "corr_test = pearsonr(x = X, y =  y)\n",
    "print(\"Coeficiente de correlación de Pearson: \", corr_test[0])\n",
    "print(\"P-value: \", corr_test[1])"
   ]
  },
  {
   "cell_type": "code",
   "execution_count": 8,
   "metadata": {},
   "outputs": [],
   "source": [
    "# Fitting el modelo\n",
    "# ===============================================================================\n",
    "X_scaled = X.values.reshape(-1,1)\n",
    "y_scaled = y.values.reshape(-1,1)\n",
    "\n",
    "X_train, X_test, y_train, y_test = train_test_split(X_scaled, y_scaled, test_size = 0.2, random_state=123)\n",
    "\n",
    "lr = LinearRegression()\n",
    "\n",
    "modelo = lr.fit(X_train, y_train)"
   ]
  },
  {
   "cell_type": "code",
   "execution_count": 9,
   "metadata": {},
   "outputs": [
    {
     "name": "stdout",
     "output_type": "stream",
     "text": [
      "Intercept: [-4050559.81832747]\n",
      "Coeficiente: [[5.52064221]]\n",
      "Coeficiente de determinación R^2: 0.28826355280863425\n",
      "--------------------\n",
      "El modelo lineal obtiene la ecuacion:\n",
      "cantidad de bicis = [-4050559.81832747] + [[5.52064221]] * fecha\n",
      "--------------------\n",
      "El r**2 indica que el modelo es capaz de explicar 28.799999999999997% de la variabilidad observada en la variable respuesta.\n"
     ]
    }
   ],
   "source": [
    "# Información del modelo\n",
    "# ==============================================================================\n",
    "print(\"Intercept:\", lr.intercept_)\n",
    "print(\"Coeficiente:\", lr.coef_)\n",
    "print(\"Coeficiente de determinación R^2:\", lr.score(X_scaled, y_scaled))\n",
    "print('--------------------')\n",
    "print('El modelo lineal obtiene la ecuacion:')\n",
    "print(f'cantidad de bicis = {lr.intercept_} + {lr.coef_} * fecha')\n",
    "print('--------------------')\n",
    "print(f'El r**2 indica que el modelo es capaz de explicar {round(lr.score(X_scaled, y_scaled),3)*100}% de la variabilidad observada en la variable respuesta.')"
   ]
  },
  {
   "cell_type": "code",
   "execution_count": 10,
   "metadata": {},
   "outputs": [
    {
     "name": "stdout",
     "output_type": "stream",
     "text": [
      "The predictions in the TRAIN set of the final model are on average 1340.716494517765 units away from the real value.\n",
      "The predictions in the TEST set of the final model are on average 1286.7145591107499 units away from the real value.\n"
     ]
    }
   ],
   "source": [
    "# Predicting\n",
    "# ==============================================================================\n",
    "y_test_predict = lr.predict(X_test)\n",
    "y_train_predict = lr.predict(X_train)\n",
    "\n",
    "# MSE evaluation\n",
    "# ==============================================================================\n",
    "rmse_train = mean_squared_error(y_true  = y_train, y_pred  = y_train_predict, squared=False)\n",
    "rmse_test = mean_squared_error(y_true  = y_test, y_pred  = y_test_predict, squared=False)\n",
    "print(f\"The predictions in the TRAIN set of the final model are on average {rmse_train} units away from the real value.\")\n",
    "print(f\"The predictions in the TEST set of the final model are on average {rmse_test} units away from the real value.\")"
   ]
  },
  {
   "cell_type": "code",
   "execution_count": 11,
   "metadata": {},
   "outputs": [
    {
     "data": {
      "image/png": "[encoded data removed]",
      "text/plain": [
       "<Figure size 432x288 with 1 Axes>"
      ]
     },
     "metadata": {
      "needs_background": "light"
     },
     "output_type": "display_data"
    }
   ],
   "source": [
    "# Visualising the results\n",
    "\n",
    "plt.figure(figsize = (6,4))\n",
    "\n",
    "plt.scatter(X_train, y_train,  color='green', label = 'Datos Train')\n",
    "plt.plot(X_train, y_train_predict, color='k', linestyle = '--', label = 'Prediccion Train')\n",
    "\n",
    "plt.scatter(X_test, y_test,  color='red', label = 'Datos Test')\n",
    "plt.plot(X_test, y_test_predict, color='yellow', linewidth=3.0, label = 'Prediccion Test',alpha=0.5)\n",
    "\n",
    "plt.legend()\n",
    "plt.show()"
   ]
  },
  {
   "cell_type": "code",
   "execution_count": 12,
   "metadata": {},
   "outputs": [],
   "source": [
    "# Prediciendo el test original\n",
    "test['dteday_ord'] = test['dteday'].apply(lambda x: x.toordinal())\n",
    "predicc = lr.predict(test['dteday_ord'].values.reshape(-1,1))"
   ]
  },
  {
   "cell_type": "code",
   "execution_count": 13,
   "metadata": {},
   "outputs": [
    {
     "name": "stdout",
     "output_type": "stream",
     "text": [
      "The predictions in the TRAIN set of the final model are on average 728994.5768709661 units away from the real value.\n"
     ]
    }
   ],
   "source": [
    "# MSE evaluation\n",
    "# ==============================================================================\n",
    "rmse = mean_squared_error(y_true  = test['dteday_ord'].values.reshape(-1,1), y_pred  = predicc, squared=False)\n",
    "\n",
    "print(f\"The predictions in the TRAIN set of the final model are on average {rmse} units away from the real value.\")"
   ]
  },
  {
   "cell_type": "code",
   "execution_count": 14,
   "metadata": {},
   "outputs": [],
   "source": [
    "# Exportacion modelo\n",
    "pjr95 = pd.DataFrame(predicc)\n",
    "pjr95.columns = ['pred']\n",
    "pjr95.to_csv('pjr95.csv')"
   ]
  }
 ],
 "metadata": {
  "kernelspec": {
   "display_name": "Python 3.10.4 64-bit",
   "language": "python",
   "name": "python3"
  },
  "language_info": {
   "codemirror_mode": {
    "name": "ipython",
    "version": 3
   },
   "file_extension": ".py",
   "mimetype": "text/x-python",
   "name": "python",
   "nbconvert_exporter": "python",
   "pygments_lexer": "ipython3",
   "version": "3.10.4"
  },
  "orig_nbformat": 4,
  "vscode": {
   "interpreter": {
    "hash": "45c56469ee8fc4afb2e5acc0c1d2e9dd94c37c19b7fdcdc145d89996bdb45018"
   }
  }
 },
 "nbformat": 4,
 "nbformat_minor": 2
}
